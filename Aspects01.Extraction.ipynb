{
 "cells": [
  {
   "cell_type": "markdown",
   "metadata": {},
   "source": [
    "# Aspect Based Sentiment Analysis - Workbook 1\n",
    "\n",
    "This is going to be the first version at getting out aspects from our User Comment set. The approach will be a combination of code adapted from the previous project with some new aproaches, from some reference points.\n",
    "\n",
    "Referred documents\n",
    "1) https://medium.com/analytics-vidhya/aspect-based-sentiment-analysis-a-practical-approach-8f51029bbc4a\n",
    "\n",
    "Data Source: commentsWithRatings_ActivityJson.csv - the User comments previously extracted out of activities.json from the previous 1. explore notebook rerun\n",
    "Aim of this file: Just extracting aspects, experiment with N-Grams by double-nouns and standard N-Grams detection"
   ]
  },
  {
   "cell_type": "code",
   "execution_count": 55,
   "metadata": {},
   "outputs": [
    {
     "name": "stdout",
     "output_type": "stream",
     "text": [
      "<class 'pandas.core.frame.DataFrame'>\n",
      "Int64Index: 2290 entries, 0 to 2290\n",
      "Data columns (total 6 columns):\n",
      " #   Column            Non-Null Count  Dtype  \n",
      "---  ------            --------------  -----  \n",
      " 0   ActivityName      2290 non-null   object \n",
      " 1   PreResult         1016 non-null   float64\n",
      " 2   PostResult        2290 non-null   float64\n",
      " 3   Domain            2226 non-null   object \n",
      " 4   MarginDifference  1016 non-null   float64\n",
      " 5   Reason            2290 non-null   object \n",
      "dtypes: float64(3), object(3)\n",
      "memory usage: 125.2+ KB\n",
      "None\n"
     ]
    },
    {
     "data": {
      "text/html": [
       "<div>\n",
       "<style scoped>\n",
       "    .dataframe tbody tr th:only-of-type {\n",
       "        vertical-align: middle;\n",
       "    }\n",
       "\n",
       "    .dataframe tbody tr th {\n",
       "        vertical-align: top;\n",
       "    }\n",
       "\n",
       "    .dataframe thead th {\n",
       "        text-align: right;\n",
       "    }\n",
       "</style>\n",
       "<table border=\"1\" class=\"dataframe\">\n",
       "  <thead>\n",
       "    <tr style=\"text-align: right;\">\n",
       "      <th></th>\n",
       "      <th>ActivityName</th>\n",
       "      <th>PreResult</th>\n",
       "      <th>PostResult</th>\n",
       "      <th>Domain</th>\n",
       "      <th>MarginDifference</th>\n",
       "      <th>Reason</th>\n",
       "    </tr>\n",
       "  </thead>\n",
       "  <tbody>\n",
       "    <tr>\n",
       "      <th>0</th>\n",
       "      <td>Art, not Apart 2019 Artists</td>\n",
       "      <td>NaN</td>\n",
       "      <td>7.0</td>\n",
       "      <td>Cultural</td>\n",
       "      <td>NaN</td>\n",
       "      <td>Some truly engaging and surprising works and p...</td>\n",
       "    </tr>\n",
       "    <tr>\n",
       "      <th>1</th>\n",
       "      <td>Art, not Apart 2019 Artists</td>\n",
       "      <td>NaN</td>\n",
       "      <td>7.0</td>\n",
       "      <td>Cultural</td>\n",
       "      <td>NaN</td>\n",
       "      <td>I would have given a higher rating, but this y...</td>\n",
       "    </tr>\n",
       "    <tr>\n",
       "      <th>2</th>\n",
       "      <td>Art, not Apart 2019 Artists</td>\n",
       "      <td>NaN</td>\n",
       "      <td>7.0</td>\n",
       "      <td>Cultural</td>\n",
       "      <td>NaN</td>\n",
       "      <td>Art Not Apart presents opportunities for exper...</td>\n",
       "    </tr>\n",
       "    <tr>\n",
       "      <th>3</th>\n",
       "      <td>Art, not Apart 2019 Artists</td>\n",
       "      <td>NaN</td>\n",
       "      <td>8.0</td>\n",
       "      <td>Cultural</td>\n",
       "      <td>NaN</td>\n",
       "      <td>I saw lots of different events, installations ...</td>\n",
       "    </tr>\n",
       "    <tr>\n",
       "      <th>4</th>\n",
       "      <td>Art, not Apart 2019 Artists</td>\n",
       "      <td>NaN</td>\n",
       "      <td>10.0</td>\n",
       "      <td>Cultural</td>\n",
       "      <td>NaN</td>\n",
       "      <td>The Diversity of works, the acessibilitu to in...</td>\n",
       "    </tr>\n",
       "  </tbody>\n",
       "</table>\n",
       "</div>"
      ],
      "text/plain": [
       "                  ActivityName  PreResult  PostResult    Domain  \\\n",
       "0  Art, not Apart 2019 Artists        NaN         7.0  Cultural   \n",
       "1  Art, not Apart 2019 Artists        NaN         7.0  Cultural   \n",
       "2  Art, not Apart 2019 Artists        NaN         7.0  Cultural   \n",
       "3  Art, not Apart 2019 Artists        NaN         8.0  Cultural   \n",
       "4  Art, not Apart 2019 Artists        NaN        10.0  Cultural   \n",
       "\n",
       "   MarginDifference                                             Reason  \n",
       "0               NaN  Some truly engaging and surprising works and p...  \n",
       "1               NaN  I would have given a higher rating, but this y...  \n",
       "2               NaN  Art Not Apart presents opportunities for exper...  \n",
       "3               NaN  I saw lots of different events, installations ...  \n",
       "4               NaN  The Diversity of works, the acessibilitu to in...  "
      ]
     },
     "execution_count": 55,
     "metadata": {},
     "output_type": "execute_result"
    }
   ],
   "source": [
    "import pandas as pd\n",
    "import numpy as np\n",
    "import collections\n",
    "\n",
    "from py_files import data_basic_utility as databasic\n",
    "from py_files import statistics_utility as stats\n",
    "\n",
    "# Stick with using the spaCy language model like previous project\n",
    "import nltk\n",
    "from nltk.tokenize import RegexpTokenizer\n",
    "from nltk.tokenize import sent_tokenize\n",
    "from nltk.probability import *\n",
    "from nltk.util import ngrams\n",
    "from nltk.corpus import stopwords\n",
    "import spacy\n",
    "\n",
    "# Load English tokeniser, tagger, parser and NER (Named Entity Recognition)\n",
    "nlp = spacy.load(\"en_core_web_sm\")\n",
    "\n",
    "dfComments = pd.read_csv(\"./data_files/commentsWithRatings_ActivitiesJson.csv\")\n",
    "dfComments = dfComments[dfComments[\"Reason\"].notna()]\n",
    "print(dfComments.info())\n",
    "dfComments.head()"
   ]
  },
  {
   "cell_type": "markdown",
   "metadata": {},
   "source": []
  },
  {
   "cell_type": "code",
   "execution_count": 56,
   "metadata": {},
   "outputs": [
    {
     "name": "stdout",
     "output_type": "stream",
     "text": [
      "0: [Some truly engaging and surprising works and performances were included in the festival. These gems both piqued my curiosity and unearthed new ideas about unrelated creative possibilities. I found the strength of the works included in the festival was mixed, but the pieces that resonated with me definitely lingered.]\n",
      "1: [I would have given a higher rating, but this year I was unable to attend the festival in person.]\n",
      "2: [Art Not Apart presents opportunities for experimentation and new ideas, but naturally within its own context of a one-day festival. I would not have created this piece without the stimulus of Art, Not Apart and the incentive to imagine that it provides.]\n",
      "3: [I saw lots of different events, installations & art pieces in different formats which broadened my range. The piece I came up with was in a brand new field for me too.]\n",
      "4: [The Diversity of works, the acessibilitu to incredible spaces]\n"
     ]
    }
   ],
   "source": [
    "lstComments = dfComments[\"Reason\"].to_list()\n",
    "databasic.listHead(lstComments)"
   ]
  },
  {
   "cell_type": "code",
   "execution_count": 57,
   "metadata": {},
   "outputs": [
    {
     "name": "stdout",
     "output_type": "stream",
     "text": [
      "0: [[[('some', 'DT'), ('truly', 'NN'), ('engaging', 'VBG'), ('and', 'CC'), ('surprising', 'JJ'), ('works', 'NNS'), ('and', 'CC'), ('performances', 'NNS'), ('were', 'VBD'), ('included', 'VBN'), ('in', 'IN'), ('the', 'DT'), ('festival', 'NN'), ('.', '.')], [('these', 'DT'), ('gems', 'NNS'), ('both', 'DT'), ('piqued', 'VBN'), ('my', 'PRP$'), ('curiosity', 'NN'), ('and', 'CC'), ('unearthed', 'JJ'), ('new', 'JJ'), ('ideas', 'NNS'), ('about', 'IN'), ('unrelated', 'JJ'), ('creative', 'JJ'), ('possibilities', 'NNS'), ('.', '.')], [('i', 'NN'), ('found', 'VBD'), ('the', 'DT'), ('strength', 'NN'), ('of', 'IN'), ('the', 'DT'), ('works', 'NNS'), ('included', 'VBD'), ('in', 'IN'), ('the', 'DT'), ('festival', 'NN'), ('was', 'VBD'), ('mixed', 'JJ'), (',', ','), ('but', 'CC'), ('the', 'DT'), ('pieces', 'NNS'), ('that', 'WDT'), ('resonated', 'VBD'), ('with', 'IN'), ('me', 'PRP'), ('definitely', 'RB'), ('lingered', 'VBD'), ('.', '.')]]]\n",
      "1: [[[('i', 'NN'), ('would', 'MD'), ('have', 'VB'), ('given', 'VBN'), ('a', 'DT'), ('higher', 'JJR'), ('rating', 'NN'), (',', ','), ('but', 'CC'), ('this', 'DT'), ('year', 'NN'), ('i', 'NN'), ('was', 'VBD'), ('unable', 'JJ'), ('to', 'TO'), ('attend', 'VB'), ('the', 'DT'), ('festival', 'NN'), ('in', 'IN'), ('person', 'NN'), ('.', '.')]]]\n",
      "2: [[[('art', 'NN'), ('not', 'RB'), ('apart', 'RB'), ('presents', 'VBZ'), ('opportunities', 'NNS'), ('for', 'IN'), ('experimentation', 'NN'), ('and', 'CC'), ('new', 'JJ'), ('ideas', 'NNS'), (',', ','), ('but', 'CC'), ('naturally', 'RB'), ('within', 'IN'), ('its', 'PRP$'), ('own', 'JJ'), ('context', 'NN'), ('of', 'IN'), ('a', 'DT'), ('one-day', 'JJ'), ('festival', 'NN'), ('.', '.')], [('i', 'NN'), ('would', 'MD'), ('not', 'RB'), ('have', 'VB'), ('created', 'VBN'), ('this', 'DT'), ('piece', 'NN'), ('without', 'IN'), ('the', 'DT'), ('stimulus', 'NN'), ('of', 'IN'), ('art', 'NN'), (',', ','), ('not', 'RB'), ('apart', 'RB'), ('and', 'CC'), ('the', 'DT'), ('incentive', 'NN'), ('to', 'TO'), ('imagine', 'VB'), ('that', 'IN'), ('it', 'PRP'), ('provides', 'VBZ'), ('.', '.')]]]\n",
      "3: [[[('i', 'NN'), ('saw', 'VBD'), ('lots', 'NNS'), ('of', 'IN'), ('different', 'JJ'), ('events', 'NNS'), (',', ','), ('installations', 'NNS'), ('&', 'CC'), ('art', 'NN'), ('pieces', 'NNS'), ('in', 'IN'), ('different', 'JJ'), ('formats', 'NNS'), ('which', 'WDT'), ('broadened', 'VBD'), ('my', 'PRP$'), ('range', 'NN'), ('.', '.')], [('the', 'DT'), ('piece', 'NN'), ('i', 'NN'), ('came', 'VBD'), ('up', 'RP'), ('with', 'IN'), ('was', 'VBD'), ('in', 'IN'), ('a', 'DT'), ('brand', 'NN'), ('new', 'JJ'), ('field', 'NN'), ('for', 'IN'), ('me', 'PRP'), ('too', 'RB'), ('.', '.')]]]\n",
      "4: [[[('the', 'DT'), ('diversity', 'NN'), ('of', 'IN'), ('works', 'NNS'), (',', ','), ('the', 'DT'), ('acessibilitu', 'NN'), ('to', 'TO'), ('incredible', 'JJ'), ('spaces', 'NNS')]]]\n"
     ]
    }
   ],
   "source": [
    "def sentenceTokenizeWithTags(inputStr):\n",
    "    if inputStr is None:\n",
    "        return []\n",
    "    sentences = sent_tokenize(inputStr.lower())\n",
    "    lstInput = []\n",
    "    for sent in sentences:\n",
    "        lstInput.append(nltk.pos_tag(nltk.word_tokenize(sent)))\n",
    "    return lstInput\n",
    "\n",
    "lstCommentTags = list(map(lambda x: sentenceTokenizeWithTags(x), lstComments))\n",
    "databasic.listHead(lstCommentTags)"
   ]
  },
  {
   "cell_type": "markdown",
   "metadata": {},
   "source": [
    "In this section we will attempt to find \"Comment Features\" according to linked nouns. This is a technique from the medium doc, to find 2 word terms like \"sound quality\" or \"battery life\", where the two adjacent terms have the tag of NN - noun (or will expand to NNS for noun plurals)\n",
    "\n",
    "Also, will save the detected terms and their counts for review"
   ]
  },
  {
   "cell_type": "code",
   "execution_count": 58,
   "metadata": {},
   "outputs": [],
   "source": [
    "def findFeaturesInComment(inputSentences):    \n",
    "    lstSentences = []\n",
    "    lstFeaturesFound = []\n",
    "    isPartOfFeature = 0\n",
    "\n",
    "    # The input is a list of sentences, where each sentence is a list of word and POS tag pairs\n",
    "    for inputTags in inputSentences:\n",
    "        if len(inputTags) == 1:\n",
    "            # this sentence is just 1 word. Don't look for features, just return as a sentence\n",
    "            sentence = inputTags[0][0]\n",
    "        else:\n",
    "            lstNewWords = []\n",
    "            # Loop through each word in the sentence with it's POS tag\n",
    "            for i in range(0,len(inputTags)-1):\n",
    "                if((len(inputTags[i][0]) > 1 and (inputTags[i][1]==\"NN\" or inputTags[i][1]==\"NNS\")) and \n",
    "                    (len(inputTags[i+1][0]) > 1 and (inputTags[i+1][1]==\"NN\" or inputTags[i+1][1]==\"NNS\")) ):\n",
    "                    # found a \"Feature\", two nouns together. Join them as an N-gram, also save to features found\n",
    "                    ngram = inputTags[i][0] + \"_\" + inputTags[i+1][0]\n",
    "                    lstNewWords.append(ngram)\n",
    "                    lstFeaturesFound.append(ngram)\n",
    "                    isPartOfFeature = 1\n",
    "                else:            \n",
    "                    if(isPartOfFeature == 1):\n",
    "                        # This word is part of the feature found together with the last word\n",
    "                        isPartOfFeature = 0\n",
    "                        continue\n",
    "                    lstNewWords.append(inputTags[i][0])\n",
    "                    if(i==len(inputTags)-2):\n",
    "                        lstNewWords.append(inputTags[i+1][0])\n",
    "\n",
    "                # Reconstruct the sentence after the ngrams have been detected and replaced\n",
    "                sentence = ' '.join(word for word in lstNewWords)\n",
    "\n",
    "        lstSentences.append(sentence)\n",
    "\n",
    "        \n",
    "    finaltxt = ' '.join(sent for sent in lstSentences)\n",
    "    return finaltxt, lstFeaturesFound\n",
    "\n",
    "\n",
    "# Loop through all the comment tags and find the features\n",
    "lstCommentsWithFeatures = []\n",
    "lstAllFeatures = []\n",
    "for comment in lstCommentTags:\n",
    "    commentWithFeatures, lstFeaturesFound = findFeaturesInComment(comment)\n",
    "    lstCommentsWithFeatures.append(commentWithFeatures)\n",
    "    lstAllFeatures.extend(lstFeaturesFound)\n",
    "\n"
   ]
  },
  {
   "cell_type": "code",
   "execution_count": 59,
   "metadata": {},
   "outputs": [
    {
     "name": "stdout",
     "output_type": "stream",
     "text": [
      "0: [some truly engaging and surprising works and performances were included in the festival . these gems both piqued my curiosity and unearthed new ideas about unrelated creative possibilities . i found the strength of the works included in the festival was mixed , but the pieces that resonated with me definitely lingered .]\n",
      "1: [i would have given a higher rating , but this year i was unable to attend the festival in person .]\n",
      "2: [art not apart presents opportunities for experimentation and new ideas , but naturally within its own context of a one-day festival . i would not have created this piece without the stimulus of art , not apart and the incentive to imagine that it provides .]\n",
      "3: [i saw lots of different events , installations & art_pieces in different formats which broadened my range . the piece i came up with was in a brand new field for me too .]\n",
      "4: [the diversity of works , the acessibilitu to incredible spaces]\n"
     ]
    }
   ],
   "source": [
    "databasic.listHead(lstCommentsWithFeatures)"
   ]
  },
  {
   "cell_type": "code",
   "execution_count": 60,
   "metadata": {},
   "outputs": [
    {
     "name": "stdout",
     "output_type": "stream",
     "text": [
      "1546\n",
      "0: [art_pieces]\n",
      "1: [fun_creations]\n",
      "2: [quality_pieces]\n",
      "3: [art_expression]\n",
      "4: [street_painting]\n"
     ]
    }
   ],
   "source": [
    "print(len(lstAllFeatures))\n",
    "databasic.listHead(lstAllFeatures)"
   ]
  },
  {
   "cell_type": "code",
   "execution_count": 61,
   "metadata": {},
   "outputs": [
    {
     "name": "stdout",
     "output_type": "stream",
     "text": [
      "Counter({'bluegrass_parkway': 48, 'event_volunteers': 46, 'sandra_donovan': 35, 'donovan_sound': 35, 'afternoon_concert': 33, 'uke_jam': 27, 'blackboard_concert': 27, 'film_festival': 13, 'okay_friendliness': 13, 'pre_show': 12, 'christmas_story': 9, 'truffle_hunters': 9, 'bass_coast': 8, 'art_practice': 7, 'life_experiences': 7, 'sound_shell': 7, 'car_park': 6, 'comfort_zone': 6, 'caravan_park': 6, 'art_work': 5, 'show_entertainment': 5, 'family_event': 5, 'coast_shorts': 5, 'focus_group': 5, 'n/a_friendliness': 5, 'okay_farmers': 5, 'street_gallery': 5, 'christmas_lights': 4, 'christmas_nativity': 4, 'parting_project': 4, 'pitch_document': 4, 'team_uma': 4, 'durga_puja': 4, 'community_members': 4, 'art_works': 4, 'art_making': 3, 'arts_scene': 3, 'arts_community': 3, 'art_community': 3, 'art_collection': 3, 'art_forms': 3, 'christmas_spirit': 3, 'nativity_play': 3, 'vice_versa': 3, 'risk_management': 3, 'covid_restrictions': 3, 'test_sites': 3, 'share_knowledge': 3, 'art_project': 2, 'hannah_cormick': 2, 'day_basis': 2, 'eye_opening': 2, 'melting_pot': 2, 'arts_sector': 2, 'wider_community': 2, 'nativity_story': 2, 'family_group': 2, 'arts_industry': 2, 'christmas_events': 2, 'dance_school': 2, 'court_gardens': 2, 'time_thank': 2, 'food_vans': 2, 'wise_men': 2, 'jordan_anthony': 2, 'glow_sticks': 2, 'pre_entertainment': 2, 'jesus_birth': 2, 'sound_system': 2, 'year_thanks': 2, 'chair_section': 2, 'community_people': 2, 'nations_people': 2, 'team_today': 2, 'poetry_workshop': 2, 'industry_professionals': 2, 'rex_pelman': 2, 'work_history': 2, 'art_programs': 2, 'art_projects': 2, 'illustration_work': 2, 'performing_arts': 2, 'art_gallery': 2, 'practice_capability': 2, 'stage_nervousness': 2, 'rehearsal_process': 2, 'online_learning': 2, 'film_making': 2, 'share_ideas': 2, 'community_groups': 2, 'group_activity': 2, 'group_session': 2, 'community_engagement': 2, 'covering_letter': 2, 'letter_example': 2, 'work_opportunity': 2, 'art_society': 2, 'walton_piece': 2, 'eye_contact': 2, 'parramatta_park': 2, 'movie_minari': 2, 'opening_night': 2, 'gospel_singout': 2, 'selection_process': 2, 'arts_practice': 2, 'coal_miners': 2, 'art_supplies': 2, 'art_pieces': 1, 'fun_creations': 1, 'quality_pieces': 1, 'art_expression': 1, 'street_painting': 1, 'kickstarter_project': 1, 'topic_interesting': 1, 'time_.....': 1, 'teres_creativity': 1, 'refreshing_belief': 1, 'value_place': 1, 'artist_fees': 1, 'crowd_etc': 1, 'everyones_sanity': 1, 'ana_team': 1, 'performance_integrity': 1, 'crap_art': 1, 'artaud_talks': 1, 'gratitude_etc': 1, 'worship_god': 1, 'reggae_fan': 1, 'soul_train': 1, 'scott_morrison': 1, 'disability_group': 1, 'heart_warming': 1, 'put_words': 1, 'performance_crude': 1, 'sarah_summer': 1, 'scrummage_spread': 1, 'gallery_performance': 1, 'hannah_cormac': 1, 'pink_suits': 1, 'peoples_junk': 1, 'environment_feels': 1, 'everything_feels': 1, 'performance_art': 1, 'scale_well': 1, 'fun_stalls': 1, 'family_demographic': 1, 'scene_people': 1, 'cbr_arts': 1, 'scene_didn': 1, 'today_hasn': 1, 'years_choice': 1, 'artists_today': 1, 'community_aspects': 1, 'exhibits_today': 1, 'style_appeals': 1, 'cbr_cty': 1, 'cbr_bland': 1, 'bland_cf': 1, 'cf_melbourne': 1, 'cbr_community': 1, 'design_week': 1, 'music_scene': 1, 'art_scene': 1, 'arts_hub': 1, 'pace_slow': 1, 'community_involvement': 1, 'dining_tables': 1, 'function_room': 1, 'city_people': 1, 'aussie_information': 1, 'minority_group': 1, 'connection_points': 1, 'education_teaches': 1, 'room_people': 1, 'diversity_today': 1, 'art_world': 1, 'greate_understanding': 1, 'world_today': 1, 'bomb_m8': 1, 'culture_diversity': 1, 'metal_sculpture': 1, 'fiend_group': 1, 'iran_living': 1, 'identity_crisis': 1, 'leadership_skills': 1, 'time_frame': 1, 'practice_shifts': 1, 'experience_wasn': 1, 'youth_company': 1, 'gain_lots': 1, 'ql2_dance': 1, 'ausdance_piece': 1, 'fun_festival': 1, 'flagship_festivals': 1, 'audience_engagement': 1, 'party_peloton': 1, 'peloton_concept': 1, 'solo_effort': 1, 'event_opportunities': 1, 'arts_event': 1, 'ideas_perspectives': 1, 'scale_performance': 1, 'performance_type': 1, 'knowledge_ideas': 1, 'actors_improvisation': 1, 'jazz_night': 1, 'dance_work': 1, 'core_purpose': 1, 'ana_experience': 1, 'experience_chenoeh': 1, 'status_quo': 1, 'cross_fertilisation': 1, 'attention_care': 1, 'care_interest': 1, 'work_opportunities': 1, 'arts_organisations': 1, 'gallery_events': 1, 'artist_confident': 1, 'dream_installation': 1, 'scale_installs': 1, 'gallery_costs': 1, 'art_festival': 1, 'snail_bike': 1, 'wine_tasting': 1, 'pot_event': 1, 'cellar_door': 1, 'people_perform': 1, 'edit_question': 1, 'nishi_theatre': 1, 'art_experiences': 1, 'food_delights': 1, 'suitcase_rummage': 1, 'stage_setup': 1, 'krewd_film': 1, 'wall_develop': 1, 'yuppie_event': 1, 'examples_lots': 1, 'box_houses': 1, 'chalk_drawings': 1, 'chalk_art': 1, 'moment_things': 1, 'face_thank': 1, 'story_telling': 1, 'tuck_shop': 1, 'envelope_thro': 1, 'fairy_mc': 1, 'christmas_time': 1, 'time_christmas': 1, 'song_carol': 1, 'hand_please': 1, 'family_tradition': 1, 'show_singers': 1, 'people_school': 1, 'days_people': 1, 'hama_productions': 1, 'del_basso': 1, 'time_hoing': 1, 'holiday_season': 1, 'experience_thank': 1, 'nativity_isn': 1, 'nativity_event': 1, 'lights_trail': 1, 'events_city': 1, 'christmas_joy': 1, 'quality_production': 1, 'backing_tracks': 1, 'day_window': 1, 'perth_council': 1, 'night_easy': 1, 'area_toilet': 1, 'toilet_facilities': 1, 'food_trucks': 1, 'culture_welcome': 1, 'country_vaughn': 1, 'walk_round': 1, 'christmas_tradition': 1, 'hawkers_markets': 1, 'light_displays': 1, 'mat_right': 1, 'families_people': 1, 'people_midway': 1, 'cast_singing': 1, 'christmas_season': 1, 'year_please': 1, 'perth_car': 1, 'kids_food': 1, 'food_blankets': 1, 'kids_home': 1, 'girl_presenting': 1, 'adult_entertainers': 1, 'entertainers_food': 1, 'food_choices': 1, 'pizza_van': 1, 'headline_act': 1, 'start_time': 1, 'family_time': 1, 'farm_experience': 1, 'balloon_twisters': 1, 'show_performers': 1, 'voice_contestants': 1, 'nativity_part': 1, 'coffee_vans': 1, 'queues_stage': 1, 'event_rey': 1, 'nativity_actors': 1, 'attendance_everyone': 1, 'hours_carol': 1, 'carol_sing': 1, 'igas_carols': 1, 'candal_light': 1, 'experience_parking': 1, 'court_car': 1, 'christmas_message': 1, 'access_area': 1, 'deafblind_attendees': 1, 'carols_please': 1, 'rif_raf': 1, 'star_ot': 1, 'rainbow_color': 1, 'something_families': 1, 'christmas_celebrations': 1, 'picnic_rugs': 1, 'project_screen': 1, 'screen_please': 1, 'language_thanks': 1, 'button_batteries': 1, 'safety_lock': 1, 'fairy_annoying': 1, 'chair_areas': 1, 'singers_actors': 1, 'mc_girl': 1, 'load_music': 1, 'sign_interpreters': 1, 'brilliant_song': 1, 'fairy_host': 1, 'dance_group': 1, 'gardens_car': 1, 'boom_gate': 1, 'stage_needs': 1, 'christmas_meaning': 1, 'christmas_thank': 1, 'blanket_area': 1, 'standing_tradition': 1, 'pre_xmas': 1, 'picnic_blanket': 1, 'blanket_meaning': 1, 'meeting_families': 1, 'smoke_machine': 1, 'fun_event': 1, 'talent_show': 1, 'stage_visiblity': 1, 'event_family': 1, 'community_event': 1, 'dancers_dances': 1, 'animals_actors': 1, 'perth_city': 1, 'city_council': 1, 'christmas_event': 1, 'family_picnic': 1, 'fairy_presenter': 1, 'presenter_pre': 1, 'pitch_pre': 1, 'community_spirit': 1, 'smoke_effect': 1, 'effect_maube': 1, 'maube_comsider': 1, 'comsider_photonooth': 1, 'tne_event': 1, 'event_oit': 1, 'ommunity_event': 1, 'event_organisers': 1, 'logistics_needs': 1, 'stage_design': 1, 'sound_tech': 1, 'tech_screens': 1, 'perth_venue': 1, 'fun_side': 1, 'christmas_carols': 1, 'coffee_outlet': 1, 'quicker_toilets': 1, 'chair_space': 1, 'chairs_area': 1, 'rellyy_god': 1, 'god_play': 1, 'event_activaties': 1, 'love_pig': 1, 'fella_singing': 1, 'male_singers': 1, 'fairy_needs': 1, 'anthpny_inthink': 1, 'supper_experience': 1, 'love_nativity': 1, 'ofnthe_singers': 1, 'drama_games': 1, 'year_levels': 1, 'family_problems': 1, 'drama_skills': 1, 'person_drama': 1, 'crew_members': 1, 'stage_performer': 1, 'meet_ups': 1, 'production_period': 1, 'stage_presence': 1, 'masterclass_workshop': 1, 'workshop_facilitators': 1, 'master_class': 1, 'class_series': 1, 'art_industry': 1, 'masterclass_guests': 1, 'storyboard_aspect': 1, 'collaboration_process': 1, 'time_management': 1, 'organisation_skills': 1, 'theatre_industry': 1, 'inspiration_rex': 1, 'team_collective': 1, 'cat_mark': 1, 'class_pup': 1, 'pup_story': 1, 'work_ranis': 1, 'ranis_class': 1, 'years_sessions': 1, 'kids_work': 1, 'story_everyone': 1, 'enthusiasm_passion': 1, 'wider_audience': 1, 'kids_lives': 1, 'evaluation_process': 1, 'poetry_art': 1, 'dementia_story': 1, 'event_afterwards': 1, 'bit_closer': 1, 'hair_colours': 1, 'kids_experience': 1, 'business_names': 1, 'people_share': 1, 'concise_presentation': 1, 'share_concerns': 1, 'event_industry': 1, 'event_examples': 1, 'site_plan': 1, 'hand_santisier': 1, 'santisier_stations': 1, 'risk_assessment': 1, 'school_children': 1, 'screen_artist': 1, 'art_maker': 1, 'production_skills': 1, 'mentors_advice': 1, 'teenage_daughter': 1, 'melisa_savickis': 1, 'savickis_book': 1, 'group_situation': 1, 'home_mother': 1, 'expression_etc': 1, 'slide_show': 1, 'project_proposal': 1, 'networking_opportunities': 1, 'program_participation': 1, 'production_timelines': 1, 'art_proposals': 1, 'inside_knowledge': 1, 'artists_methodologies': 1, 'proposal_techniques': 1, 'artwork_ideas': 1, 'fulfil_requirements': 1, 'online_portal': 1, 'university_institutions': 1, 'funding_bodies': 1, 'online_forums': 1, 'advice_session': 1, 'production_coinsideration': 1, 'learning_opportunities': 1, 'industry_experts': 1, 'group_discussions': 1, 'consultation_meetings': 1, 'liability_insurance': 1, 'risk_assessments': 1, 'funding_body': 1, 'realm_commissioners': 1, 'business_income': 1, 'jobkeeper_subsidies': 1, 'client_work': 1, 'day_teaching': 1, 'online_activity': 1, 'share_music': 1, 'word_count': 1, 'art_initiative': 1, 'living_costs': 1, 'demi_station': 1, 'comments_section': 1, 'artists_share': 1, 'andrews_community': 1, 'art_skills': 1, 'neighbourhood_facebook': 1, 'facebook_page': 1, 'people_increases': 1, 'sound_gear': 1, 'film_drawings': 1, 'cameras_football': 1, 'pitch_voice': 1, 'alcohol_abuse': 1, 'pas.the_studio': 1, 'studio_supports': 1, 'residency_programs': 1, \"work_'dialogue\": 1, 'term_project': 1, 'development_stage': 1, 'group_exhibition': 1, 'limestone_boulder': 1, 'orange_nsw': 1, 'web_designer': 1, 'design_phase': 1, 'experiences_work': 1, 'research_history': 1, 'design_techniques': 1, 'video_artwork': 1, 'mask_making': 1, 'making_project': 1, 'mundubbera_qld': 1, 'interview_process': 1, 'video_work': 1, 'landscape_mode': 1, 'interest_half': 1, 'half_way': 1, 'talent_contest': 1, 'durga_pujo': 1, 'pujo_celebration': 1, 'age_group': 1, 'group_interest': 1, 'diffcult_time': 1, 'time_..': 1, 'durga_puma': 1, 'job_uma': 1, 'year_amidst': 1, 'situation_uma': 1, 'community_cohesiveness': 1, 'comming_years': 1, 'home_feeling': 1, 'ad_mesmerising': 1, 'covid_times': 1, 'living_rooms': 1, 'culture_bengalis': 1, 'puja_truly': 1, 'pop_songs': 1, 'post_covid': 1, 'covid_event': 1, 'entertainment_..': 1, 'brings_people': 1, 'way_jarooz': 1, 'everyone_briefly': 1, 'everything_discusses': 1, 'everyone_talk': 1, 'marketing_plan': 1, 'creator_templates': 1, 'participants_questions': 1, 'hand_wash': 1, 'evolving_landscape': 1, 'hand_hygiene': 1, 'events_context': 1, 'bitesize_segments': 1, 'brimbank_council': 1, 'weya_encourages': 1, 'everyone_collaborate': 1, 'zoom_sessions': 1, 'creativity_expand': 1, 'self_creativity': 1, 'face_time': 1, 'team_backing': 1, 'arts_performance': 1, 'friendship_group': 1, 'family_connection': 1, 'team_mates': 1, 'surface_level': 1, 'zoom_classes': 1, 'kind_group': 1, 'wedding_venue': 1, 'wedding_happening': 1, 'ways_artists': 1, 'grant_writing': 1, 'box_office': 1, 'office_side': 1, 'health_professional': 1, 'film_group': 1, 'film_exposes': 1, 'music_videos': 1, 'film_makers': 1, 'readability_issues': 1, 'appreciation_wirun': 1, 'practice_capabilities': 1, 'learning_event': 1, 'viewing_experiences': 1, 'st_kilda': 1, 'film_maker': 1, 'others_work': 1, 'cover_letter': 1, 'dream_job': 1, 'imposter_syndrome': 1, 'edge_puts': 1, 'production_team': 1, 'friend_group': 1, 'production_online': 1, 'online_session': 1, 'film_production': 1, 'designing_skills': 1, 'experiences_frustrations': 1, 'performance_space': 1, 'business_people': 1, 'thinking_chat': 1, 'education_activity': 1, 'post_films': 1, 'community_needs': 1, 'community_info': 1, 'info_campaigns': 1, 'role_council': 1, 'zoom_consulting': 1, 'marketing_strategy': 1, 'friends_organisation': 1, 'promotion_strategy': 1, 'information_changes': 1, 'mentoring_session': 1, 'sound_knowledge': 1, 'projects_activities': 1, 'vmc_premier': 1, 'cabinet_priority': 1, 'priority_response': 1, 'mentoring_process': 1, 'action_planning': 1, 'community_event/activities': 1, 'organisation_youth': 1, 'youth_members': 1, 'youth_programs': 1, 'community_facility': 1, 'age_appropriate': 1, 'craft_material': 1, 'portables_idea': 1, 'effect_change': 1, 'group_nobody': 1, 'melbourne_lockdown': 1, 'focus_groups': 1, 'community_affairs': 1, 'community_activities': 1, 'work_outputs': 1, 'craft_work': 1, 'community_effort': 1, 'tend_residency': 1, 'turn_enables': 1, 'enhances_identity': 1, 'heartfelt_works': 1, 'earth_ground': 1, 'example_sultana': 1, 'neck_laces/pieces': 1, 'port_hedland': 1, 'ones_garden': 1, 'ones_environment': 1, 'community_well-being': 1, 'place_fascinating': 1, 'participants_collaboration': 1, 'art_mediums': 1, 'time_people': 1, 'exhibition_project': 1, 'exhibition_work': 1, 'basketry_workshops': 1, 'sheer_repetition': 1, 'set_theme': 1, 'group_making': 1, 'share_skills': 1, 'community_participation': 1, 'ideas_befor': 1, 'work_experience': 1, 'session_today': 1, 'success_team': 1, 'job_hunting': 1, 'job_victoria': 1, 'hidden_positions': 1, 'experience_traits': 1, 'words_describe': 1, 'phone_interview': 1, 'interview_skills': 1, 'workplace_occasions': 1, 'work_shop': 1, 'recording_sessions': 1, 'community_connections': 1, 'chrissy_hills': 1, 'nillumbik_council': 1, 're_housing': 1, 'participants_share': 1, 'resourcing_issues': 1, 'community_development': 1, 'development_worker': 1, 'kids_point': 1, 'tis_project': 1, 'point_regardless': 1, 'life_issues': 1, 'bundaleer_space': 1, 'audience_member': 1, 'team_interview': 1, 'interview_someone': 1, 'tender_funerals': 1, 'youth_homelessness': 1, 'homelessness_sector': 1, 'youth_work': 1, 'housing_commission': 1, 'commission_streets': 1, 'steps_towards': 1, 'towards_justice': 1, 'others_experience': 1, 'school_context': 1, 'context_connecting': 1, 'school_processes': 1, 'death_versus': 1, 'podcast_offers': 1, 'artists_work': 1, 'council_collections': 1, 'works_councils': 1, 'comment_....': 1, 'term_residents': 1, 'area_participating': 1, 'nations_representation': 1, 'collection_show': 1, 'regions_commitment': 1, 'remix_exhibition': 1, 'diverse_show': 1, 'clifton_pugh': 1, 'steel_parts': 1, 'fire_paintings': 1, 'artist_hung': 1, 'opening_event': 1, 'yandel_walton': 1, 'collections_exhibition': 1, 'perspectives_feature': 1, 'community_art': 1, 'art_culture': 1, 'smoking_ceremony': 1, 'story_tellers': 1, 'art_books': 1, 'ways_people': 1, 'studio_day': 1, 'art_creation': 1, 'language_centre': 1, 'language_workshops': 1, 'dixon_books': 1, 'learning_resources': 1, 'aunty_alberta': 1, 'people_thought': 1, 'team_games': 1, 'stuff_today': 1, 'life_lessons': 1, 'friend_groups': 1, 'group_games': 1, 'information_sharing': 1, 'sharing_walk': 1, 'pari_artists': 1, 'dock_etc': 1, 'artist_walking': 1, 'walking_tours': 1, 'walking_tour': 1, 'living_environment': 1, 'experience_afterwards': 1, 'post-walk_gathering': 1, 'vr_tour': 1, 'exchange_event': 1, 'charming_hosts': 1, 'email_correspondence': 1, 'prize_winner': 1, 'gippsland_region': 1, 'readers_comments': 1, 'coast_post': 1, 'post_page': 1, 'arts_award': 1, 'samoan_parents': 1, 'core_creatives': 1, 'time_limit': 1, 'person_workshop': 1, 'hand_sewing': 1, 'maker_space': 1, 'gut_feeling': 1, 'feeling_response': 1, 'terms_nothing': 1, 'income_sourcing': 1, 'artist_commission': 1, 'life_time': 1, 'time_crisis': 1, 'human_body': 1, 'commission_work': 1, 'body_paintings': 1, 'artists_commission': 1, 'exhibition_art': 1, 'transport_cost': 1, 'works_quality': 1, 'shire_council': 1, 'health_crisis': 1, 'event_cancellation': 1, 'art_exhibitions': 1, 'zero_artwork': 1, 'artwork_sales': 1, 'design_work': 1, 'job_keeper': 1, 'art_commission': 1, 'work_towards': 1, 'towards_exhibitions': 1, 'photography_services': 1, 'mood_lifter': 1, 'sustenance_payment': 1, 'artists_bears': 1, 'absolute_irony': 1, 'cash_bailout': 1, 'funding_support': 1, 'art_book': 1, 'side_effect': 1, 'commission_opportunity': 1, 'level_ok.': 1, 'podcast_workshop': 1, 'motion_animation': 1, 'work_animation': 1, 'movie_making': 1, 'term_childhood': 1, 'childhood_dream': 1, 'friend_online': 1, 'class_today': 1, 'home_myself': 1, 'writer_living': 1, 'powerpoint_presentations': 1, 'parramatta_stories': 1, 'challenge_teaches': 1, 'parramatta_theme': 1, 'publishing_process': 1, 'writing_skills': 1, 'word_limit': 1, 'sentence_structure': 1, 'writing_routine': 1, 'book_deal': 1, 'anthology_etc': 1, 'target_audience': 1, 'capability_beforehand': 1, 'publishing_road': 1, 'share_information': 1, 'support_others': 1, 'family/friends_support': 1, 'culture_nationalities': 1, 'time_carer': 1, 'mix_thank': 1, 'idea_hope': 1, 'face_others': 1, 'time_please': 1, 'audience_enjoyment': 1, 'connectedness_community': 1, 'guys_performance': 1, 'cultures_abilities': 1, 'ability_appreciation': 1, 'togetehrness_meetup': 1, 'idea_execution': 1, 'everyone_individuals': 1, 'individuals_community': 1, 'staff_tara': 1, 'triple_princes': 1, 'participants_abilities': 1, 'artists_charavters': 1, 'costumes_music': 1, 'music_emotions': 1, 'connection_understatdning': 1, 'daughter_perform': 1, 'carpet_man': 1, 'color_labrinth': 1, 'workout_thrainers': 1, 'spending_time': 1, 'dress_ups': 1, 'afternoon_dancing': 1, 'bringing_joy': 1, 'art_movies': 1, 'music_concerts': 1, 'film_options': 1, 'language_movies': 1, 'quality_films': 1, 'city_art': 1, 'art_cinemas': 1, 'champagne_scenario': 1, 'name_please': 1, 'audience_members': 1, 'film_genres': 1, 'film_industry': 1, 'movie_screening': 1, 'date_technology': 1, 'choc_tops': 1, 'country_video': 1, 'childhood_experiences': 1, 'story_line': 1, 'family_worry': 1, 'story_lines': 1, 'film_goer': 1, 'family_men': 1, 'corpus_christi': 1, 'film_content': 1, 'family_life': 1, 'television_screen': 1, 'male_teachers': 1, 'ie_cuddling': 1, 'art_form': 1, 'film_events': 1, 'community_tradition': 1, 'discussion_afterwards': 1, 'specific_film': 1, 'film_festivals': 1, 'fun_aspect': 1, 'music_ensemble': 1, 'movie_memories': 1, 'film_goers': 1, 'saw_truffle': 1, 'intro_speech': 1, 'film_somehow': 1, 'appreciation_hence': 1, 'sound_track': 1, 'film_experience': 1, 'base_knowledge': 1, 'part_teachers': 1, 'event_management': 1, 'chosen_subjects': 1, 'kids_families': 1, 'arts_crafts': 1, 'kids_daughter': 1, 'loves_crafts': 1, 'parramatta_artist': 1, 'artist_studios': 1, 'okay_opportunities': 1, 'manjimup_backpackers': 1, 'gateway_hotel/motel': 1, 'street_performers': 1, 'parkway_concert': 1, 'market_stalls': 1, 'compare_spending': 1, 'band_sing': 1, 'min_intro': 1, 'music_enthusiasts': 1, 'dingup_house': 1, 'workshop_presenter': 1, 'street_entertainment': 1, 'microphone_sound': 1, 'performers_justice': 1, 'events_workshops': 1, 'n/a_performances': 1, 'street_performances': 1, 'food_places': 1, 'music_concert': 1, 'pool_caravan': 1, 'music_venue': 1, 'market_stallsokay': 1, 'stallsokay_friendliness': 1, 'event_volunteersvery': 1, 'bluegrass_parkwayokay': 1, 'manjimup_district': 1, 'hotel_staff': 1, 'night_jam': 1, 'jam_session': 1, 'backwards_straightaway': 1, 'fluoro_lighting': 1, 'metal_structure': 1, 'booking_agency': 1, 'booking_page': 1, 'farmers_market': 1, 'farm_produce': 1, 'event_advertising': 1, 'parkway_performance': 1, 'money_meant': 1, 'streaming_options': 1, 'skills_gains': 1, 'course_cow': 1, 'cow_boys': 1, 'stage_selection': 1, 'selections_credibility': 1, 'finalist_exhibition': 1, 'standard_works': 1, 'mind_thinking': 1, 'childhood_home': 1, 'company_jof': 1, 'varying_responses': 1, 'industry_leaders': 1, 'prize_validates': 1, 'artwork_hanging': 1, 'concise_description': 1, 'quality_works': 1, 'eltham_community': 1, 'quality_work': 1, 'space_arts': 1, 'arts_space': 1, 'survey_link': 1, 'robert_smith': 1, 'smith_collection': 1, 'print_maker': 1, 'work_side': 1, 'miners_town': 1, 'class_ancestors': 1, 'wonthaggi_coal': 1, 'way_counihan': 1, 'smiths_preference': 1, 'et_al': 1, 'kathe_kollwitz': 1, 'arts_area': 1, 'event.aussie_icon': 1, 'icon_artist': 1, 'person…….sooooooo_glad': 1, 'history_coal': 1, 'coal_mining': 1, 'counihan_politics': 1, 'gallery_space': 1, 'management_team': 1, 'display_area': 1, 'appropriate_use': 1, 'use_facilities': 1, 'workshop_activities': 1, 'art_suppliers': 1, 'workshop_space': 1, 'art_materials': 1, 'artist_living': 1, 'art_volunteers': 1, 'mid_coast': 1, 'work_display': 1, 'business_appeals': 1, 'target_group': 1, 'development_strattegy': 1, 'business_community': 1, 'business_support': 1, 'operating_expenses': 1, 'art_standards': 1, 'life_.membership': 1, 'awareness_programs': 1, 'membership_interests': 1, 'record_attendances': 1, 'project_overall': 1, 'state_government': 1, 'art_tutor': 1, 'fives_times': 1, 'floor_space': 1, 'running_costs': 1, 'framing_shop': 1, 'forster_tuncurry': 1, 'holiday_plans': 1, 'twin_towns': 1, 'side_note': 1, 'paper_towels': 1, 'toilet_paper': 1, 'hand_sanitiser': 1, 'tea_bags': 1, 'clouds_change': 1, 'interest_observation': 1, 'side_effects': 1, 'class_room': 1, 'result_restaurants': 1, 'weekend_workshops': 1, 'societies_members': 1, 'tourist_attractions': 1, 'art_classes': 1, 'business_sponsors': 1, 'members_artworks': 1, 'turn_stimulates': 1, 'stimulates_creativity': 1, 'art_installations': 1, 'design_location': 1, 'location_sky': 1, 'reference_points': 1, 'significance_relevence': 1, 'community_share': 1, 'vantage_points': 1, 'description_michael': 1, 'year_period': 1, 'town_beach': 1, 'festival_crew': 1, 'internet_info': 1, 'artist_talk': 1, 'something_today': 1, 'place_everyday': 1})\n"
     ]
    }
   ],
   "source": [
    "featureCounter = collections.Counter(lstAllFeatures)\n",
    "print(featureCounter)\n",
    "\n",
    "# print(featureCounter.most_common(20))"
   ]
  },
  {
   "cell_type": "markdown",
   "metadata": {},
   "source": [
    "Now do some standard NLTK looking for bigrams"
   ]
  },
  {
   "cell_type": "code",
   "execution_count": 62,
   "metadata": {},
   "outputs": [
    {
     "name": "stdout",
     "output_type": "stream",
     "text": [
      "Statistics for List of Text Inputs:\n",
      "  Total number of tokens:  58033\n",
      "  Vocabulary size:  5167\n",
      "  Lexical diversity:  0.08903554873951028\n",
      "  Total number of lists: 2290\n",
      "  Average description tokens length: 146.5344978165939\n",
      "  Minimum description tokens length: 0\n",
      "  Maximum description tokens length: 1685\n",
      "  Standard deviation of document length: 172.26944439933655\n"
     ]
    }
   ],
   "source": [
    "# recreate the word list and vocabulary then look at statistics\n",
    "tokenPattern = r\"[a-zA-Z]+(?:[-'][a-zA-Z]+)?\"\n",
    "tokenizer = RegexpTokenizer(tokenPattern)\n",
    "\n",
    "# Turn the comments into a list of word tokens\n",
    "lstCommentTokens = list(map(lambda x: tokenizer.tokenize(x), lstCommentsWithFeatures))\n",
    "\n",
    "# Create the word list and vocabulary then look at statistics\n",
    "allWords, vocabulary = databasic.createWordsAndVocabForTokenLists(lstCommentTokens)\n",
    "stats.print_token_stats(lstCommentsWithFeatures, allWords, vocabulary)"
   ]
  },
  {
   "cell_type": "code",
   "execution_count": 63,
   "metadata": {},
   "outputs": [
    {
     "name": "stdout",
     "output_type": "stream",
     "text": [
      "['a', 'about', 'above', 'after', 'again', 'against', 'ain', 'all', 'am', 'an', 'and', 'any', 'are', 'aren', \"aren't\", 'as', 'at', 'be', 'because', 'been', 'before', 'being', 'below', 'between', 'both', 'but', 'by', 'can', 'couldn', \"couldn't\", 'd', 'did', 'didn', \"didn't\", 'do', 'does', 'doesn', \"doesn't\", 'doing', 'don', \"don't\", 'down', 'during', 'each', 'few', 'for', 'from', 'further', 'had', 'hadn', \"hadn't\", 'has', 'hasn', \"hasn't\", 'have', 'haven', \"haven't\", 'having', 'he', 'her', 'here', 'hers', 'herself', 'him', 'himself', 'his', 'how', 'i', 'if', 'in', 'into', 'is', 'isn', \"isn't\", 'it', \"it's\", 'its', 'itself', 'just', 'll', 'm', 'ma', 'me', 'mightn', \"mightn't\", 'more', 'most', 'mustn', \"mustn't\", 'my', 'myself', 'needn', \"needn't\", 'no', 'nor', 'not', 'now', 'o', 'of', 'off', 'on', 'once', 'only', 'or', 'other', 'our', 'ours', 'ourselves', 'out', 'over', 'own', 're', 's', 'same', 'shan', \"shan't\", 'she', \"she's\", 'should', \"should've\", 'shouldn', \"shouldn't\", 'so', 'some', 'such', 't', 'than', 'that', \"that'll\", 'the', 'their', 'theirs', 'them', 'themselves', 'then', 'there', 'these', 'they', 'this', 'those', 'through', 'to', 'too', 'under', 'until', 'up', 've', 'very', 'was', 'wasn', \"wasn't\", 'we', 'were', 'weren', \"weren't\", 'what', 'when', 'where', 'which', 'while', 'who', 'whom', 'why', 'will', 'with', 'won', \"won't\", 'wouldn', \"wouldn't\", 'y', 'you', \"you'd\", \"you'll\", \"you're\", \"you've\", 'your', 'yours', 'yourself', 'yourselves']\n"
     ]
    }
   ],
   "source": [
    "stopwordsNltk = sorted(list(stopwords.words('english')))\n",
    "print(stopwordsNltk)"
   ]
  },
  {
   "cell_type": "code",
   "execution_count": 64,
   "metadata": {},
   "outputs": [
    {
     "data": {
      "text/plain": [
       "[('the', 2948),\n",
       " ('and', 2161),\n",
       " ('to', 1950),\n",
       " ('i', 1775),\n",
       " ('of', 1433),\n",
       " ('a', 1278),\n",
       " ('in', 851),\n",
       " ('it', 847),\n",
       " ('was', 839),\n",
       " ('with', 605),\n",
       " ('my', 553),\n",
       " ('for', 497),\n",
       " ('this', 492),\n",
       " ('that', 476),\n",
       " ('is', 465),\n",
       " ('have', 435),\n",
       " ('very', 378),\n",
       " ('great', 368),\n",
       " ('me', 364),\n",
       " ('on', 353),\n",
       " ('more', 337),\n",
       " ('we', 332),\n",
       " ('as', 329),\n",
       " ('people', 303),\n",
       " ('not', 295),\n",
       " ('be', 278),\n",
       " ('work', 270),\n",
       " ('so', 251),\n",
       " ('but', 242),\n",
       " ('about', 229),\n",
       " ('from', 227),\n",
       " ('s', 225),\n",
       " ('were', 209),\n",
       " ('at', 207),\n",
       " ('an', 203),\n",
       " ('art', 198),\n",
       " ('all', 198),\n",
       " ('are', 195),\n",
       " ('event', 193),\n",
       " ('feel', 192),\n",
       " ('really', 181),\n",
       " ('had', 177),\n",
       " ('you', 173),\n",
       " ('like', 173),\n",
       " ('by', 167),\n",
       " ('has', 167),\n",
       " ('would', 164),\n",
       " ('good', 162),\n",
       " ('how', 162),\n",
       " ('because', 162)]"
      ]
     },
     "execution_count": 64,
     "metadata": {},
     "output_type": "execute_result"
    }
   ],
   "source": [
    "# find frequency distribution of words\n",
    "documentFrequency = FreqDist(allWords)\n",
    "\n",
    "# find most common 50 words\n",
    "documentFrequency.most_common(50)"
   ]
  },
  {
   "cell_type": "code",
   "execution_count": 65,
   "metadata": {},
   "outputs": [
    {
     "name": "stdout",
     "output_type": "stream",
     "text": [
      "Statistics for List of Text Inputs:\n",
      "  Total number of tokens:  29805\n",
      "  Vocabulary size:  5026\n",
      "  Lexical diversity:  0.16862942459318905\n",
      "  Total number of lists: 2290\n",
      "  Average description tokens length: 146.5344978165939\n",
      "  Minimum description tokens length: 0\n",
      "  Maximum description tokens length: 1685\n",
      "  Standard deviation of document length: 172.26944439933655\n"
     ]
    }
   ],
   "source": [
    "# Remove the stopWords\n",
    "lstCommentTokens = list(map(lambda x: databasic.filter_by_words_bsearch(x, stopwordsNltk), lstCommentTokens))\n",
    "\n",
    "# recreate the word list and vocabulary then look at statistics\n",
    "allWords, vocabulary = databasic.createWordsAndVocabForTokenLists(lstCommentTokens)\n",
    "stats.print_token_stats(lstCommentsWithFeatures, allWords, vocabulary)"
   ]
  },
  {
   "cell_type": "code",
   "execution_count": 66,
   "metadata": {},
   "outputs": [
    {
     "data": {
      "text/plain": [
       "[(('brockman', 'street'), 49),\n",
       " (('bluegrass', 'parkway'), 48),\n",
       " (('farmers', 'market'), 47),\n",
       " (('friendliness', 'helpfulness'), 47),\n",
       " (('helpfulness', 'event'), 47),\n",
       " (('event', 'volunteers'), 46),\n",
       " (('performances', 'featuring'), 46),\n",
       " (('featuring', 'bluegrass'), 46),\n",
       " (('entertainment', 'brockman'), 45),\n",
       " (('market', 'stalls'), 45),\n",
       " (('workshops', 'various'), 41),\n",
       " (('various', 'musicians'), 41),\n",
       " (('musicians', 'groups'), 40),\n",
       " (('big', 'uke'), 35),\n",
       " (('uke', 'jam'), 35),\n",
       " (('jam', 'sandra'), 35),\n",
       " (('sandra', 'donovan'), 35),\n",
       " (('donovan', 'donovan'), 35),\n",
       " (('donovan', 'sound'), 35),\n",
       " (('sound', 'shell'), 35),\n",
       " (('feel', 'like'), 34),\n",
       " (('afternoon', 'concert'), 33),\n",
       " (('parkway', 'great'), 32),\n",
       " (('concert', 'wayward'), 32),\n",
       " (('wayward', 'earls'), 32),\n",
       " (('young', 'people'), 29),\n",
       " (('great', 'workshops'), 29),\n",
       " (('volunteers', 'great'), 29),\n",
       " (('great', 'performances'), 28),\n",
       " (('sunday', 'evening'), 28)]"
      ]
     },
     "execution_count": 66,
     "metadata": {},
     "output_type": "execute_result"
    }
   ],
   "source": [
    "bigrams = ngrams(allWords, n = 2)\n",
    "fdbigram = FreqDist(bigrams)\n",
    "mostFreqBigrams = fdbigram.most_common(30)\n",
    "mostFreqBigrams"
   ]
  }
 ],
 "metadata": {
  "kernelspec": {
   "display_name": "Python 3.9.5 64-bit",
   "language": "python",
   "name": "python3"
  },
  "language_info": {
   "codemirror_mode": {
    "name": "ipython",
    "version": 3
   },
   "file_extension": ".py",
   "mimetype": "text/x-python",
   "name": "python",
   "nbconvert_exporter": "python",
   "pygments_lexer": "ipython3",
   "version": "3.9.5"
  },
  "orig_nbformat": 4,
  "vscode": {
   "interpreter": {
    "hash": "dcbc78149e46ccbab92a3f68a48c52feb0796c7e10dad8e3f1a2a5a780973376"
   }
  }
 },
 "nbformat": 4,
 "nbformat_minor": 2
}
